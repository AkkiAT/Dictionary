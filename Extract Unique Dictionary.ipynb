{
 "cells": [
  {
   "cell_type": "code",
   "execution_count": 2,
   "metadata": {},
   "outputs": [
    {
     "name": "stdout",
     "output_type": "stream",
     "text": [
      "Unique values in the dictionary: [10, 20, 30]\n"
     ]
    }
   ],
   "source": [
    "#Extract Unique dictionary \n",
    "#Sample dictionary\n",
    "my_dict = {'a': 10,\n",
    "           'b': 20,\n",
    "           'c': 10,\n",
    "           'd': 30,\n",
    "           'e': 20}\n",
    "#Initialize an empty set to store unique values\n",
    "uni_val = set()\n",
    "\n",
    "#Iterate through the values of the dictionary\n",
    "for i in my_dict.values():\n",
    "    #Add each value to the set\n",
    "    uni_val.add(i)\n",
    "#Convert the set of unique values back to a list (if needed)\n",
    "unique_values_list = list(uni_val)\n",
    "#Print the unique values\n",
    "print(\"Unique values in the dictionary:\", unique_values_list)    "
   ]
  }
 ],
 "metadata": {
  "kernelspec": {
   "display_name": ".venv",
   "language": "python",
   "name": "python3"
  },
  "language_info": {
   "codemirror_mode": {
    "name": "ipython",
    "version": 3
   },
   "file_extension": ".py",
   "mimetype": "text/x-python",
   "name": "python",
   "nbconvert_exporter": "python",
   "pygments_lexer": "ipython3",
   "version": "3.12.2"
  }
 },
 "nbformat": 4,
 "nbformat_minor": 2
}
